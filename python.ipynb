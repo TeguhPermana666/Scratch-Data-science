{
 "cells": [
  {
   "cell_type": "markdown",
   "metadata": {},
   "source": [
    "# 1. Functions\n"
   ]
  },
  {
   "cell_type": "code",
   "execution_count": 3,
   "metadata": {},
   "outputs": [
    {
     "name": "stdout",
     "output_type": "stream",
     "text": [
      "2\n"
     ]
    }
   ],
   "source": [
    "# Frist - class\n",
    "def double(X):\n",
    "    return X * 2\n",
    "\n",
    "def aplly_to_one(f):\n",
    "    return f(1)\n",
    "\n",
    "a= double\n",
    "b = aplly_to_one(a)\n",
    "print(b)    "
   ]
  },
  {
   "cell_type": "code",
   "execution_count": 4,
   "metadata": {},
   "outputs": [
    {
     "name": "stdout",
     "output_type": "stream",
     "text": [
      "5\n"
     ]
    }
   ],
   "source": [
    "# used Lambda pass to functions\n",
    "c = aplly_to_one(lambda x : x + 4)\n",
    "print(c)"
   ]
  },
  {
   "cell_type": "code",
   "execution_count": 6,
   "metadata": {},
   "outputs": [
    {
     "name": "stdout",
     "output_type": "stream",
     "text": [
      "<function <lambda> at 0x000001AF0ED69E50>\n"
     ]
    }
   ],
   "source": [
    "# lambda can assign to variable -> not recomend\n",
    "d = lambda x : x * 2\n",
    "print(d)"
   ]
  },
  {
   "cell_type": "markdown",
   "metadata": {},
   "source": [
    "# Exception"
   ]
  },
  {
   "cell_type": "code",
   "execution_count": 7,
   "metadata": {},
   "outputs": [
    {
     "name": "stdout",
     "output_type": "stream",
     "text": [
      " Cant devide 0/0\n"
     ]
    }
   ],
   "source": [
    "try:\n",
    "    print(0/0)\n",
    "except:\n",
    "    print(\" Cant devide 0/0\")"
   ]
  },
  {
   "cell_type": "markdown",
   "metadata": {},
   "source": [
    "# Default dict\n"
   ]
  },
  {
   "cell_type": "code",
   "execution_count": 10,
   "metadata": {},
   "outputs": [
    {
     "data": {
      "text/plain": [
       "{' ': 5,\n",
       " 'h': 2,\n",
       " 'e': 1,\n",
       " 'l': 2,\n",
       " 'o': 1,\n",
       " 'g': 2,\n",
       " 'a': 4,\n",
       " 'y': 1,\n",
       " 's': 1,\n",
       " 'n': 2,\n",
       " 'm': 1,\n",
       " 'k': 1,\n",
       " 'u': 1,\n",
       " 'i': 1}"
      ]
     },
     "execution_count": 10,
     "metadata": {},
     "output_type": "execute_result"
    }
   ],
   "source": [
    "# Count the word on the document\n",
    "word_counts = {}\n",
    "document = \" hello gays nama ku nigha\"\n",
    "for word in document:\n",
    "    if word in word_counts:\n",
    "        word_counts[word] +=1\n",
    "    else:\n",
    "        word_counts[word]=1\n",
    "word_counts"
   ]
  },
  {
   "cell_type": "code",
   "execution_count": 12,
   "metadata": {},
   "outputs": [
    {
     "data": {
      "text/plain": [
       "{' ': 5,\n",
       " 'h': 2,\n",
       " 'e': 1,\n",
       " 'l': 2,\n",
       " 'o': 1,\n",
       " 'g': 2,\n",
       " 'a': 4,\n",
       " 'y': 1,\n",
       " 's': 1,\n",
       " 'n': 2,\n",
       " 'm': 1,\n",
       " 'k': 1,\n",
       " 'u': 1,\n",
       " 'i': 1}"
      ]
     },
     "execution_count": 12,
     "metadata": {},
     "output_type": "execute_result"
    }
   ],
   "source": [
    "word_counts={}\n",
    "\n",
    "for word in document:\n",
    "    try:\n",
    "        word_counts[word] +=1\n",
    "    except:\n",
    "        word_counts[word]=1\n",
    "word_counts\n",
    "    "
   ]
  },
  {
   "cell_type": "code",
   "execution_count": 15,
   "metadata": {},
   "outputs": [
    {
     "data": {
      "text/plain": [
       "{' ': 5,\n",
       " 'h': 2,\n",
       " 'e': 1,\n",
       " 'l': 2,\n",
       " 'o': 1,\n",
       " 'g': 2,\n",
       " 'a': 4,\n",
       " 'y': 1,\n",
       " 's': 1,\n",
       " 'n': 2,\n",
       " 'm': 1,\n",
       " 'k': 1,\n",
       " 'u': 1,\n",
       " 'i': 1}"
      ]
     },
     "execution_count": 15,
     "metadata": {},
     "output_type": "execute_result"
    }
   ],
   "source": [
    "word_counts={}\n",
    "for word in document:\n",
    "    prev_count = word_counts.get(word,0)\n",
    "    word_counts[word] =prev_count +1\n",
    "word_counts"
   ]
  },
  {
   "cell_type": "markdown",
   "metadata": {},
   "source": [
    "# Counter\n",
    "-> to count the item on list"
   ]
  },
  {
   "cell_type": "code",
   "execution_count": 21,
   "metadata": {},
   "outputs": [
    {
     "data": {
      "text/plain": [
       "Counter({0: 4, 1: 2, 2: 3, 3: 1, 4: 1})"
      ]
     },
     "execution_count": 21,
     "metadata": {},
     "output_type": "execute_result"
    }
   ],
   "source": [
    "from collections import Counter\n",
    "\n",
    "data=[0,0,0,1,1,2,2,3,2,4,0]\n",
    "Counter(data)"
   ]
  },
  {
   "cell_type": "code",
   "execution_count": 22,
   "metadata": {},
   "outputs": [
    {
     "data": {
      "text/plain": [
       "Counter({' ': 5,\n",
       "         'h': 2,\n",
       "         'e': 1,\n",
       "         'l': 2,\n",
       "         'o': 1,\n",
       "         'g': 2,\n",
       "         'a': 4,\n",
       "         'y': 1,\n",
       "         's': 1,\n",
       "         'n': 2,\n",
       "         'm': 1,\n",
       "         'k': 1,\n",
       "         'u': 1,\n",
       "         'i': 1})"
      ]
     },
     "execution_count": 22,
     "metadata": {},
     "output_type": "execute_result"
    }
   ],
   "source": [
    "# that's like a word_counts -> used counter library\n",
    "Counter(document)"
   ]
  },
  {
   "cell_type": "code",
   "execution_count": 24,
   "metadata": {},
   "outputs": [
    {
     "name": "stdout",
     "output_type": "stream",
     "text": [
      "  5\n",
      "a 4\n",
      "h 2\n",
      "l 2\n",
      "g 2\n",
      "n 2\n",
      "e 1\n",
      "o 1\n",
      "y 1\n",
      "s 1\n"
     ]
    }
   ],
   "source": [
    "for word, count in Counter(document).most_common(10):\n",
    "    print(word, count)\n"
   ]
  }
 ],
 "metadata": {
  "kernelspec": {
   "display_name": "Python 3.9.9 ('env': venv)",
   "language": "python",
   "name": "python3"
  },
  "language_info": {
   "codemirror_mode": {
    "name": "ipython",
    "version": 3
   },
   "file_extension": ".py",
   "mimetype": "text/x-python",
   "name": "python",
   "nbconvert_exporter": "python",
   "pygments_lexer": "ipython3",
   "version": "3.9.9"
  },
  "orig_nbformat": 4,
  "vscode": {
   "interpreter": {
    "hash": "1d9910303eecfe3b6cdcbdaa4d482c9110c4a3a39e4f394d9897f708ec021033"
   }
  }
 },
 "nbformat": 4,
 "nbformat_minor": 2
}
